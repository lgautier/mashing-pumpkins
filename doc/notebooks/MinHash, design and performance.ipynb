{
 "cells": [
  {
   "cell_type": "markdown",
   "metadata": {},
   "source": [
    "# Designing a Python library for building prototypes around MinHash\n",
    "\n",
    "This is very much work-in-progress. May be the software and or ideas presented with be the subject of a peer-reviewed or self-published write-up. For now the URL for this is: https://github.com/lgautier/mashing-pumpkins\n",
    "\n",
    "MinHash in the context of biological sequenced was introduced by the Maryland Bioinformatics Lab [add reference here].\n",
    "\n",
    "Building a MinHash is akin to taking a sample of all k-mers / n-grams found in a sequence and using that sample as a signature or sketch for that sequence.\n",
    "\n",
    "## A look at convenience *vs* performance\n",
    "\n",
    "Moving Python code to C leads to performance improvement... sometimes."
   ]
  },
  {
   "cell_type": "markdown",
   "metadata": {},
   "source": [
    "### Test sequence\n",
    "\n",
    "First we need a test sequence. Generating a random one quickly can be achieved as follows, for example. If you already have you own way to generate a sequence, or your own benchmark sequence, the following code cell can be changed so as to end up with a variable `sequence` that is a `bytes` object containing it."
   ]
  },
  {
   "cell_type": "code",
   "execution_count": 1,
   "metadata": {
    "collapsed": false
   },
   "outputs": [],
   "source": [
    "# we take a DNA sequence as an example, but this is arbitrary and not necessary.\n",
    "alphabet = b'ATGC'\n",
    "# create a lookup structure to go from byte to 4-mer\n",
    "# (a arbitrary byte is a bitpacked 4-mer)\n",
    "quad = [None,]*(len(alphabet)**4)\n",
    "i = 0\n",
    "for b1 in alphabet:\n",
    "    for b2 in alphabet:\n",
    "        for b3 in alphabet:\n",
    "            for b4 in alphabet:\n",
    "                quad[i] = bytes((b1,b2,b3,b4))\n",
    "                i += 1\n",
    "# random bytes for a 1M genome (order of magnitude for a bacterial genome)\n",
    "import ssl\n",
    "size = int(1E6)\n",
    "sequencebitpacked = ssl.RAND_bytes(int(size/4))\n",
    "sequence = bytearray(int(size))\n",
    "for i, b in zip(range(0, len(sequence), 4), sequencebitpacked):\n",
    "    sequence[i:(i+4)] = quad[b]\n",
    "sequence = bytes(sequence)"
   ]
  },
  {
   "cell_type": "markdown",
   "metadata": {},
   "source": [
    "### Kicking the tires with `sourmash`\n",
    "\n",
    "The executable `sourmash` is a nice package from the dib-lab implemented in Python and including a library [add reference here]. Perfect for trying out quick what MinHash sketches can do.\n",
    "\n",
    "We will create a MinHash of maximum size 1000 (1000 elements) and of k-mer size 21 (all ngrams of length 21 across the input sequences will be considered for inclusion in the MinHash. At the time of writing MinHash is implemented in C/C++ and use that as a reference for speed, as we measure the time it takes to process our 1M reference sequence"
   ]
  },
  {
   "cell_type": "code",
   "execution_count": 2,
   "metadata": {
    "collapsed": false
   },
   "outputs": [
    {
     "name": "stdout",
     "output_type": "stream",
     "text": [
      "1.53 seconds\n"
     ]
    }
   ],
   "source": [
    "from sourmash_lib._minhash import MinHash\n",
    "\n",
    "import timeit\n",
    "\n",
    "stmt = \"\"\"\n",
    "smh = MinHash(1000, 21)\n",
    "smh.add_sequence(sequence)\n",
    "\"\"\"\n",
    "t_sourmash = timeit.timeit(stmt,\n",
    "                           setup='from __main__ import sequence, MinHash; sequence=sequence.decode(\"utf-8\")',\n",
    "                           number=5)\n",
    "print(\"%.2f seconds\" % t_sourmash)"
   ]
  },
  {
   "cell_type": "markdown",
   "metadata": {},
   "source": [
    "This is awesome. The sketch for a bacteria-sized DNA sequence can be computed very quickly (less than a second on my laptop)."
   ]
  },
  {
   "cell_type": "markdown",
   "metadata": {},
   "source": [
    "### Redisigning it all for convenience and flexibility\n",
    "\n",
    "We have redesigned what a class could look like, and implemented that design in Python\n",
    "foremost for our own convenience and to match the claim of convenience. Now how bad is the impact on performance ?\n",
    "\n",
    "Our new design allows flexibility with respect to the hash function used, and to initially illustrate our point we use `mmh` an existing Python package wrapping MurmurHash3, the hashing function used in `MASH` and `sourmash`."
   ]
  },
  {
   "cell_type": "code",
   "execution_count": 3,
   "metadata": {
    "collapsed": false
   },
   "outputs": [
    {
     "name": "stdout",
     "output_type": "stream",
     "text": [
      "1.53 seconds\n",
      "Our Python implementation is 1.00 times slower.\n"
     ]
    }
   ],
   "source": [
    "import mmh3\n",
    "hashfun = mmh3.hash128\n",
    "\n",
    "from mashingpumpkins.minhashsketch import MaxHashNgramSketch\n",
    "\n",
    "import timeit\n",
    "stmt = 'mhs = MaxHashNgramSketch(21, 1000, hashfun); mhs.add(sequence)'\n",
    "t_basic = timeit.timeit(stmt,\n",
    "                        setup='from __main__ import MaxHashNgramSketch, hashfun, sequence',\n",
    "                        number=5)\n",
    "print(\"%.2f seconds\" % t_basic)\n",
    "\n",
    "print(\"Our Python implementation is %.2f times slower.\" % (t_basic / t_sourmash))"
   ]
  },
  {
   "cell_type": "markdown",
   "metadata": {},
   "source": [
    "Ah. Our Python implementation only using `mmh3` and the standard library is not slower.\n",
    "We will assume that we are faster then.\n",
    "\n",
    "**note: ** the careful reader will not that we have a MaxHash rather than a MinHash. This is so to use algorithms in the Python stan"
   ]
  },
  {
   "cell_type": "code",
   "execution_count": 4,
   "metadata": {
    "collapsed": false
   },
   "outputs": [
    {
     "name": "stdout",
     "output_type": "stream",
     "text": [
      "Our Python implementation is 1.00 times faster.\n"
     ]
    }
   ],
   "source": [
    "print(\"Our Python implementation is %.2f times faster.\" % (t_sourmash / t_basic))"
   ]
  },
  {
   "cell_type": "markdown",
   "metadata": {},
   "source": [
    "There is more to it though. The code in \"mashingpumpkins\" is doing more by keeping track of the k-mer/n-gram along with the hash value in order to allow the generation of inter-operable sketch [add reference to discussion on GitHub].\n",
    "\n",
    "We can modifying our class to stop storing the associated k-mer (only keep the hash value) to see if it improves performances:"
   ]
  },
  {
   "cell_type": "code",
   "execution_count": 5,
   "metadata": {
    "collapsed": false
   },
   "outputs": [
    {
     "name": "stdout",
     "output_type": "stream",
     "text": [
      "1.35 seconds\n",
      "Our Python implementation is 1.14 times faster.\n"
     ]
    }
   ],
   "source": [
    "class NoNgrams(MaxHashNgramSketch):\n",
    "    \n",
    "    def _make_elt(self, h, ngram):\n",
    "        return (h, )\n",
    "\n",
    "stmt = 'mhs = NoNgrams(21, 1000, hashfun); mhs.add(sequence)'\n",
    "t_nongrams = timeit.timeit(stmt,\n",
    "                           setup='from __main__ import NoNgrams, hashfun, sequence',\n",
    "                           number=5)\n",
    "\n",
    "print(\"%.2f seconds\" % t_nongrams)\n",
    "\n",
    "print(\"Our Python implementation is %.2f times faster.\" % (t_sourmash / t_nongrams))"
   ]
  },
  {
   "cell_type": "markdown",
   "metadata": {},
   "source": [
    "No real difference here. Storing the k-mers / n-grams only has an impact on the added memory required to stored the 1,000\n",
    "k-mers of length 21.\n",
    "\n",
    "The flexibility of our design comes from code modularity, and nested function calls can often have worse performances than inlined code. We inlined our code to observe the effect:"
   ]
  },
  {
   "cell_type": "code",
   "execution_count": 6,
   "metadata": {
    "collapsed": false
   },
   "outputs": [
    {
     "name": "stdout",
     "output_type": "stream",
     "text": [
      "1.36 seconds\n",
      "Our Python implementation is 1.13 times faster.\n"
     ]
    }
   ],
   "source": [
    "from heapq import heappush, heapreplace\n",
    "\n",
    "class NoNgramsAndInlined(MaxHashNgramSketch):\n",
    "    \"\"\"\n",
    "    Just like MaxHashNgramSketch but the method `add()` has all calls to other methods inlined.\n",
    "    \"\"\"\n",
    "\n",
    "\n",
    "    def add(self, s):\n",
    "        hashfun = self._hashfun\n",
    "        heap = self._heap\n",
    "        maxsize = self._maxsize\n",
    "        nsize = self._nsize\n",
    "        heapset = self._heapset\n",
    "        i = None\n",
    "        lheap = len(heap)\n",
    "        if lheap > 0:\n",
    "            heaptop = heap[0]\n",
    "        else:\n",
    "            heaptop = None\n",
    "        for i in range(0, len(s)-nsize):\n",
    "            ngram = s[i:(i+nsize)]\n",
    "            h = hashfun(ngram)\n",
    "            if lheap < maxsize:\n",
    "                elt = h\n",
    "                if elt not in heapset:\n",
    "                    heapset.add(elt)\n",
    "                    heappush(heap, elt)\n",
    "                    heaptop = heap[0]\n",
    "                    lheap += 1\n",
    "            elif h  > heaptop:\n",
    "                elt = h\n",
    "                if elt not in heapset:\n",
    "                    heapset = heapset\n",
    "                    heapset.add(elt)\n",
    "                    out = heapreplace(heap, elt)\n",
    "                    heapset.remove(out)\n",
    "                    heaptop = heap[0]\n",
    "        if i is not None:\n",
    "             self._nvisited += (i+1)    \n",
    "\n",
    "import timeit\n",
    "stmt = 'mhs = NoNgramsAndInlined(21, 1000, hashfun); mhs.add(sequence)'\n",
    "t_nongrams_inlined = timeit.timeit(stmt,\n",
    "                                   setup='from __main__ import NoNgramsAndInlined, hashfun, sequence',\n",
    "                                   number=5)\n",
    "\n",
    "print(\"%.2f seconds\" % t_nongrams_inlined)\n",
    "\n",
    "print(\"Our Python implementation is %.2f times faster.\" % (t_sourmash / t_nongrams_inlined))\n"
   ]
  },
  {
   "cell_type": "markdown",
   "metadata": {},
   "source": [
    "Very marginal improvement, if significant at all, but arguably not really worth the trouble and the loss of flexibility.\n",
    "\n",
    "The inlining is letting us explore and other idea though. Computing batches of hash values each time C is reached for MurmurHash3. We have implemented the small C function require to call MurmurHash for several k-mers, and our inlined implementation is easy to modify to take advantage of that:"
   ]
  },
  {
   "cell_type": "code",
   "execution_count": 7,
   "metadata": {
    "collapsed": false
   },
   "outputs": [
    {
     "name": "stdout",
     "output_type": "stream",
     "text": [
      "0.46 seconds\n",
      "Our Python implementation is 2.92 times faster.\n"
     ]
    }
   ],
   "source": [
    "import array\n",
    "\n",
    "class NoNgramsAndInlinedAndBatch(MaxHashNgramSketch):\n",
    "    \"\"\"\n",
    "    Just like MaxHashNgramSketch but the method `add()` has all calls to other methods inlined.\n",
    "    \"\"\"\n",
    "\n",
    "\n",
    "    def add(self, s, w=100):\n",
    "        hashfun = self._hashfun\n",
    "        heap = self._heap\n",
    "        maxsize = self._maxsize\n",
    "        nsize = self._nsize\n",
    "        heapset = self._heapset\n",
    "        i = None\n",
    "        lheap = len(heap)\n",
    "        hashbuffer = array.array('Q', [0,]*w)\n",
    "        if lheap > 0:\n",
    "            heaptop = heap[0]\n",
    "        else:\n",
    "            heaptop = None\n",
    "        \n",
    "        for i in range(0, len(s)-nsize, w):\n",
    "            subs = s[i:(i+w)]\n",
    "            nsubs = hashfun(subs, nsize, hashbuffer)\n",
    "            for j in range(w):\n",
    "                h = hashbuffer[j]\n",
    "                if lheap < maxsize:\n",
    "                    elt = h\n",
    "                    if elt not in heapset:\n",
    "                        heapset.add(elt)\n",
    "                        heappush(heap, elt)\n",
    "                        heaptop = heap[0]\n",
    "                        lheap += 1\n",
    "                elif h  > heaptop:\n",
    "                    elt = h\n",
    "                    if elt not in heapset:\n",
    "                        heapset = heapset\n",
    "                        heapset.add(elt)\n",
    "                        out = heapreplace(heap, elt)\n",
    "                        heapset.remove(out)\n",
    "                        heaptop = heap[0]\n",
    "        if i is not None:\n",
    "             self._nvisited += (i+1)    \n",
    "\n",
    "from mashingpumpkins._murmurhash3 import hasharray\n",
    "hashfun = hasharray\n",
    "import timeit\n",
    "stmt = 'mhs = NoNgramsAndInlinedAndBatch(21, 1000, hashfun); mhs.add(sequence)'\n",
    "t_batch = timeit.timeit(stmt,\n",
    "                        setup='from __main__ import NoNgramsAndInlinedAndBatch, hashfun, sequence',\n",
    "                        number=5)\n",
    "\n",
    "print(\"%.2f seconds\" % t_batch)\n",
    "\n",
    "print(\"Our Python implementation is %.2f times faster.\" % (t_nongrams_inlined / t_batch))\n"
   ]
  },
  {
   "cell_type": "markdown",
   "metadata": {},
   "source": [
    "Wow. At the time of writing this is approximatively 3 times faster than C-implemented `sourmash`.\n",
    "\n",
    "The next iteration on the design will include this, and will hopefully significantly faster than the original while\n",
    "continuing to provide flexibility for research and prototypes."
   ]
  },
  {
   "cell_type": "code",
   "execution_count": null,
   "metadata": {
    "collapsed": true
   },
   "outputs": [],
   "source": []
  }
 ],
 "metadata": {
  "kernelspec": {
   "display_name": "Python 3",
   "language": "python",
   "name": "python3"
  },
  "language_info": {
   "codemirror_mode": {
    "name": "ipython",
    "version": 3
   },
   "file_extension": ".py",
   "mimetype": "text/x-python",
   "name": "python",
   "nbconvert_exporter": "python",
   "pygments_lexer": "ipython3",
   "version": "3.5.2+"
  }
 },
 "nbformat": 4,
 "nbformat_minor": 2
}
