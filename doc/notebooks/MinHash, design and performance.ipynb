{
 "cells": [
  {
   "cell_type": "markdown",
   "metadata": {},
   "source": [
    "# Designing a Python library for building prototypes around MinHash\n",
    "\n",
    "This is very much work-in-progress. May be the software and or ideas presented with be the subject of a peer-reviewed or self-published write-up. For now the URL for this is: https://github.com/lgautier/mashing-pumpkins\n",
    "\n",
    "MinHash in the context of biological sequenced was introduced by the Maryland Bioinformatics Lab [add reference here].\n",
    "\n",
    "Building a MinHash is akin to taking a sample of all k-mers / n-grams found in a sequence and using that sample as a signature or sketch for that sequence.\n",
    "\n",
    "## A look at convenience *vs* performance\n",
    "\n",
    "Moving Python code to C leads to performance improvement... sometimes."
   ]
  },
  {
   "cell_type": "markdown",
   "metadata": {},
   "source": [
    "### Test sequence\n",
    "\n",
    "First we need a test sequence. Generating a random one quickly can be achieved as follows, for example. If you already have you own way to generate a sequence, or your own benchmark sequence, the following code cell can be changed so as to end up with a variable `sequence` that is a `bytes` object containing it."
   ]
  },
  {
   "cell_type": "code",
   "execution_count": 1,
   "metadata": {
    "collapsed": false
   },
   "outputs": [],
   "source": [
    "# we take a DNA sequence as an example, but this is arbitrary and not necessary.\n",
    "alphabet = b'ATGC'\n",
    "# create a lookup structure to go from byte to 4-mer\n",
    "# (a arbitrary byte is a bitpacked 4-mer)\n",
    "quad = [None,]*(len(alphabet)**4)\n",
    "i = 0\n",
    "for b1 in alphabet:\n",
    "    for b2 in alphabet:\n",
    "        for b3 in alphabet:\n",
    "            for b4 in alphabet:\n",
    "                quad[i] = bytes((b1,b2,b3,b4))\n",
    "                i += 1\n",
    "# random bytes for a 1M genome (order of magnitude for a bacterial genome)\n",
    "import ssl\n",
    "size = int(1E6)\n",
    "sequencebitpacked = ssl.RAND_bytes(int(size/4))\n",
    "sequence = bytearray(int(size))\n",
    "for i, b in zip(range(0, len(sequence), 4), sequencebitpacked):\n",
    "    sequence[i:(i+4)] = quad[b]\n",
    "sequence = bytes(sequence)"
   ]
  },
  {
   "cell_type": "markdown",
   "metadata": {},
   "source": [
    "### Kicking the tires with `sourmash`\n",
    "\n",
    "The executable `sourmash` is a nice package from the dib-lab implemented in Python and including a library [add reference here]. Perfect for trying out quick what MinHash sketches can do.\n",
    "\n",
    "We will create a MinHash of maximum size 1000 (1000 elements) and of k-mer size 21 (all ngrams of length 21 across the input sequences will be considered for inclusion in the MinHash. At the time of writing MinHash is implemented in C/C++ and use that as a reference for speed, as we measure the time it takes to process our 1M reference sequence"
   ]
  },
  {
   "cell_type": "code",
   "execution_count": 2,
   "metadata": {
    "collapsed": false
   },
   "outputs": [
    {
     "name": "stdout",
     "output_type": "stream",
     "text": [
      "0.31 seconds / sequence\n"
     ]
    }
   ],
   "source": [
    "from sourmash_lib._minhash import MinHash\n",
    "\n",
    "import timeit\n",
    "ntimes = 5\n",
    "\n",
    "stmt = \"\"\"\n",
    "smh = MinHash(1000, 21)\n",
    "smh.add_sequence(sequence)\n",
    "\"\"\"\n",
    "t_sourmash = timeit.timeit(stmt,\n",
    "                           setup='from __main__ import sequence, MinHash; sequence=sequence.decode(\"utf-8\")',\n",
    "                           number=ntimes)\n",
    "print(\"%.2f seconds / sequence\" % (t_sourmash/ntimes))"
   ]
  },
  {
   "cell_type": "markdown",
   "metadata": {},
   "source": [
    "This is awesome. The sketch for a bacteria-sized DNA sequence can be computed very quickly (about a second on my laptop)."
   ]
  },
  {
   "cell_type": "markdown",
   "metadata": {},
   "source": [
    "### Redisigning it all for convenience and flexibility\n",
    "\n",
    "We have redesigned what a class could look like, and implemented that design in Python\n",
    "foremost for our own convenience and to match the claim of convenience. Now how bad is the impact on performance ?\n",
    "\n",
    "Our new design allows flexibility with respect to the hash function used, and to initially illustrate our point we use `mmh` an existing Python package wrapping MurmurHash3, the hashing function used in `MASH` and `sourmash`."
   ]
  },
  {
   "cell_type": "code",
   "execution_count": 3,
   "metadata": {
    "collapsed": false
   },
   "outputs": [
    {
     "name": "stdout",
     "output_type": "stream",
     "text": [
      "0.49 seconds / sequence\n",
      "Our Python implementation is 1.56 times slower.\n"
     ]
    }
   ],
   "source": [
    "# make a hashing function to match our design\n",
    "import mmh3\n",
    "def hashfun(sequence, nsize, hbuffer, w=100):\n",
    "    n = min(len(hbuffer), len(sequence)-nsize+1)\n",
    "    for i in range(n):\n",
    "        ngram = sequence[i:(i+nsize)]\n",
    "        hbuffer[i] = mmh3.hash64(ngram)[0]\n",
    "    return n\n",
    "\n",
    "from mashingpumpkins.minhashsketch import MaxHashNgramSketch\n",
    "        \n",
    "from array import array\n",
    "stmt = 'mhs = MaxHashNgramSketch(21, 1000, hashfun); mhs.add(sequence, hashbuffer=array(\"q\", [0,]*200))'\n",
    "t_basic = timeit.timeit(stmt,\n",
    "                        setup='from __main__ import MaxHashNgramSketch, hashfun, sequence, array',\n",
    "                        number=ntimes)\n",
    "print(\"%.2f seconds / sequence\" % (t_basic / ntimes))\n",
    "\n",
    "print(\"Our Python implementation is %.2f times slower.\" % (t_basic / t_sourmash))"
   ]
  },
  {
   "cell_type": "markdown",
   "metadata": {},
   "source": [
    "Ah. Our Python implementation only using `mmh3` and the standard library is not slower.\n",
    "\n",
    "**note: ** the careful reader will not that we have a MaxHash rather than a MinHash. This is so to use algorithms in the Python stan"
   ]
  },
  {
   "cell_type": "markdown",
   "metadata": {},
   "source": [
    "There is more to it though. The code in \"mashingpumpkins\" is doing more by keeping track of the k-mer/n-gram along with the hash value in order to allow the generation of inter-operable sketch [add reference to discussion on GitHub]."
   ]
  },
  {
   "cell_type": "markdown",
   "metadata": {},
   "source": [
    "We can modifying our class to stop storing the associated k-mer (only keep the hash value) to see if it improves performances:"
   ]
  },
  {
   "cell_type": "code",
   "execution_count": 4,
   "metadata": {
    "collapsed": false
   },
   "outputs": [
    {
     "name": "stdout",
     "output_type": "stream",
     "text": [
      "0.49 seconds / sequence\n",
      "Our Python implementation is 1.56 times slower.\n"
     ]
    }
   ],
   "source": [
    "class NoNgrams(MaxHashNgramSketch):\n",
    "    \n",
    "    def _make_elt(self, h, ngram):\n",
    "        return h\n",
    "    \n",
    "    @staticmethod\n",
    "    def _extracthash(elt):\n",
    "        return elt\n",
    "\n",
    "stmt = 'mhs = NoNgrams(21, 1000, hashfun); mhs.add(sequence, hashbuffer=array(\"q\", [0, ]*100))'\n",
    "t_nongrams = timeit.timeit(stmt,\n",
    "                           setup='from __main__ import NoNgrams, hashfun, sequence, array',\n",
    "                           number=ntimes)\n",
    "\n",
    "print(\"%.2f seconds / sequence\" % (t_nongrams/ntimes))\n",
    "\n",
    "print(\"Our Python implementation is %.2f times slower.\" % (t_nongrams / t_sourmash))"
   ]
  },
  {
   "cell_type": "markdown",
   "metadata": {},
   "source": [
    "No real difference here. Storing the k-mers / n-grams only has an impact on the added memory required to stored the 1,000\n",
    "k-mers of length 21."
   ]
  },
  {
   "cell_type": "markdown",
   "metadata": {},
   "source": [
    "Our design in computing batches of hash values each time C is reached for MurmurHash3. We have implemented the small C function require to call MurmurHash for several k-mers, and when using it we have interesting performance gains."
   ]
  },
  {
   "cell_type": "code",
   "execution_count": 5,
   "metadata": {
    "collapsed": false
   },
   "outputs": [
    {
     "name": "stdout",
     "output_type": "stream",
     "text": [
      "0.11 seconds / sequence\n",
      "Our Python implementation is 2.77 times faster.\n"
     ]
    }
   ],
   "source": [
    "from mashingpumpkins._murmurhash3 import hasharray\n",
    "hashfun = hasharray\n",
    "        \n",
    "stmt = 'mhs = MaxHashNgramSketch(21, 1000, hashfun); mhs.add(sequence)'\n",
    "t_batch = timeit.timeit(stmt,\n",
    "                        setup='from __main__ import MaxHashNgramSketch, hashfun, sequence',\n",
    "                        number=ntimes)\n",
    "\n",
    "print(\"%.2f seconds / sequence\" % (t_batch/ntimes))\n",
    "\n",
    "print(\"Our Python implementation is %.2f times faster.\" % (t_sourmash / t_batch))\n"
   ]
  },
  {
   "cell_type": "markdown",
   "metadata": {},
   "source": [
    "Wow!\n",
    "\n",
    "At the time of writing this is approximatively 3 times faster than C-implemented `sourmash`. And we are doing more work (we are keeping the ngrams / kmers associated with hash values)."
   ]
  },
  {
   "cell_type": "markdown",
   "metadata": {},
   "source": [
    "Not keeping the ngrams does not make too much difference:"
   ]
  },
  {
   "cell_type": "code",
   "execution_count": 6,
   "metadata": {
    "collapsed": false
   },
   "outputs": [
    {
     "name": "stdout",
     "output_type": "stream",
     "text": [
      "0.11 seconds / sequence\n",
      "Our Python implementation is 2.96 times faster.\n"
     ]
    }
   ],
   "source": [
    "stmt = 'mhs = NoNgrams(21, 1000, hashfun); mhs.add(sequence)'\n",
    "t_batch = timeit.timeit(stmt,\n",
    "                        setup='from __main__ import NoNgrams, hashfun, sequence',\n",
    "                        number=ntimes)\n",
    "\n",
    "print(\"%.2f seconds / sequence\" % (t_batch/ntimes))\n",
    "\n",
    "print(\"Our Python implementation is %.2f times faster.\" % (t_sourmash / t_batch))"
   ]
  },
  {
   "cell_type": "markdown",
   "metadata": {},
   "source": [
    "However, as it was pointed out sourmash's minhash also checking that the sequenceo only uses letters from the DNA alphabet **and** computes the sketch for both the sequence and its reverse complement. We add these 2 operations (check and reverse complement) in a custom child class:"
   ]
  },
  {
   "cell_type": "code",
   "execution_count": 7,
   "metadata": {
    "collapsed": false
   },
   "outputs": [
    {
     "name": "stdout",
     "output_type": "stream",
     "text": [
      "0.20 seconds / sequence\n",
      "Our Python implementation is 1.59 times faster.\n"
     ]
    }
   ],
   "source": [
    "from mashingpumpkins._murmurhash3 import hasharray\n",
    "hashfun = hasharray\n",
    "\n",
    "from array import array\n",
    "\n",
    "translation = bytearray(256)\n",
    "for x,y in zip(b'ATGC', b'TACG'):\n",
    "    translation[x] = y\n",
    "\n",
    "def revcomp(sequence):\n",
    "    ba = bytearray(sequence)\n",
    "    ba.reverse()\n",
    "    ba.translate(translation)\n",
    "    return ba\n",
    "    \n",
    "class MyMash(MaxHashNgramSketch):\n",
    "    def add(self, seq, hashbuffer=array('Q', [0,]*300)):\n",
    "        if sum(seq.count(x) for x in b'ATGC') != len(seq):\n",
    "            ValueError('Invalid DNA sequence')\n",
    "        super().add(sequence, hashbuffer=hashbuffer)\n",
    "        ba = revcomp(sequence)\n",
    "        super().add(ba, hashbuffer=hashbuffer)\n",
    "        \n",
    "        \n",
    "stmt = 'mhs = MyMash(21, 1000, hashfun); mhs.add(sequence)'\n",
    "t_batch = timeit.timeit(stmt,\n",
    "                        setup='from __main__ import MyMash, hashfun, sequence, revcomp, translation',\n",
    "                        number=ntimes)\n",
    "\n",
    "print(\"%.2f seconds / sequence\" % (t_batch/ntimes))\n",
    "\n",
    "print(\"Our Python implementation is %.2f times faster.\" % (t_sourmash / t_batch))\n"
   ]
  },
  {
   "cell_type": "markdown",
   "metadata": {},
   "source": [
    "Still pretty good, the code for the check is not particularly optimal (that's the kind of primitives that would go to C)."
   ]
  },
  {
   "cell_type": "markdown",
   "metadata": {},
   "source": [
    "We also have an alternative fast hashing available (XXHash). Roughly as fast as MurmurHash3."
   ]
  },
  {
   "cell_type": "code",
   "execution_count": 8,
   "metadata": {
    "collapsed": false
   },
   "outputs": [
    {
     "name": "stdout",
     "output_type": "stream",
     "text": [
      "0.12 seconds / sequence\n",
      "Our Python implementation is 2.72 times faster.\n"
     ]
    }
   ],
   "source": [
    "from mashingpumpkins import _xxhash\n",
    "hashfun = _xxhash.hasharray\n",
    "stmt = 'mhs = MaxHashNgramSketch(21, 1000, hashfun); mhs.add(sequence, hashbuffer=array(\"Q\", [0, ]*100))'\n",
    "t_batch_xxh = timeit.timeit(stmt,\n",
    "                            setup='from __main__ import MaxHashNgramSketch, hashfun, sequence, array',\n",
    "                            number=ntimes)\n",
    "\n",
    "print(\"%.2f seconds / sequence\" % (t_batch_xxh / ntimes))\n",
    "\n",
    "print(\"Our Python implementation is %.2f times faster.\" % (t_sourmash / t_batch_xxh))"
   ]
  },
  {
   "cell_type": "markdown",
   "metadata": {
    "collapsed": true
   },
   "source": [
    "## To infinite and beyond"
   ]
  },
  {
   "cell_type": "markdown",
   "metadata": {},
   "source": [
    "Now how much time should it take to compute signature for various references ?\n",
    "\n",
    "First we check quickly that the time is roughly proportional to the size of the reference:"
   ]
  },
  {
   "cell_type": "code",
   "execution_count": 9,
   "metadata": {
    "collapsed": false
   },
   "outputs": [],
   "source": [
    "def run_sourmash(sketchsize, env, ntimes):\n",
    "    env['sketchsize'] = sketchsize\n",
    "    \n",
    "    stmt = \"\"\"\n",
    "smh = MinHash(sketchsize, 21)\n",
    "smh.add_sequence(sequence)\n",
    "    \"\"\"\n",
    "    setup = \"\"\"\n",
    "from __main__ import env, MinHash\n",
    "sequence=env['sequencen'].decode(\"utf-8\")\n",
    "sketchsize=env['sketchsize']\n",
    "    \"\"\"\n",
    "    t_sourmash = timeit.timeit(stmt,\n",
    "                               setup = setup,\n",
    "                               number=ntimes)\n",
    "\n",
    "    return {'t': t_sourmash,\n",
    "            'what': 'sourmash',\n",
    "            'keepngrams': False,\n",
    "            'l_sequence': len(env['sequencen']),\n",
    "            'bufsize': 0,\n",
    "            'sketchsize': sketchsize}\n",
    "\n",
    "def run_mashingp(clsname, bufsize, sketchsize, hashfun, env, ntimes):\n",
    "    buffer = array('Q', [0, ] * bufsize)\n",
    "    env['buffer'] = buffer\n",
    "    env['hashfun'] = hashfun\n",
    "    stmt = \"\"\"\n",
    "mhs = %s(21, sketchsize, hashfun)\n",
    "mhs.add(sequence, hashbuffer=buffer)\n",
    "\"\"\" % clsname\n",
    "    t_batch = timeit.timeit(stmt,\n",
    "                            setup='from __main__ import %s, env; '\n",
    "                                  'sequence=env[\"sequencen\"]; '\n",
    "                                  'hashfun=env[\"hashfun\"]; '\n",
    "                                  'buffer=env[\"buffer\"]; '\n",
    "                                  'sketchsize=env[\"sketchsize\"]' % clsname,\n",
    "                            number=ntimes)\n",
    "    if clsname == 'NoNgrams':\n",
    "        keepngrams = False\n",
    "    else:\n",
    "        keepngrams = True\n",
    "    return {'t': t_batch,\n",
    "            'what': 'mashingpumpkins',\n",
    "            'keepngrams': keepngrams,\n",
    "            'l_sequence': len(env['sequencen']),\n",
    "            'bufsize': bufsize,\n",
    "            'sketchsize': sketchsize}\n",
    "\n",
    "from ipywidgets import FloatProgress\n",
    "from IPython.display import display\n",
    "f = FloatProgress(min=0, max=5*8*5*2*2)\n",
    "display(f)\n",
    "res = list()\n",
    "ntimes = 2\n",
    "for seqsize in (int(1E5), int(3E5), int(5E5), int(1E6), int(5E6)):\n",
    "    # print('\\n* sequence size: {:,}'.format(seqsize))\n",
    "    env = dict()\n",
    "    sequencebitpacked = ssl.RAND_bytes(int(seqsize/4))\n",
    "    sequencen = bytearray(int(seqsize))\n",
    "    for i, b in zip(range(0, len(sequencen), 4), sequencebitpacked):\n",
    "        sequencen[i:(i+4)] = quad[b]\n",
    "    sequencen = bytes(sequencen)\n",
    "    env['sequencen'] = sequencen\n",
    "    for sketchsize in (100, 200, 500, 1000, 5000, 10000, 20000, 50000):\n",
    "        tmp = run_sourmash(sketchsize, env, ntimes)\n",
    "        tmp.update([('hashfun', 'murmurhash3')])\n",
    "        res.append(tmp)\n",
    "        for bufsize in (50, 100, 200, 500, 1000):\n",
    "            for funname, hashfun in (('murmurhash3', hasharray), ('xxhash', _xxhash.hasharray)):\n",
    "                for clsname in ('MaxHashNgramSketch', 'NoNgrams'):\n",
    "                    tmp = run_mashingp(clsname, bufsize, sketchsize, hashfun, env, ntimes)\n",
    "                    tmp.update([('hashfun', funname)])\n",
    "                    res.append(tmp)\n",
    "                    f.value += 1"
   ]
  },
  {
   "cell_type": "code",
   "execution_count": 10,
   "metadata": {
    "collapsed": false
   },
   "outputs": [
    {
     "data": {
      "image/png": "[encoded data removed]",
      "text/plain": [
       "<IPython.core.display.Image object>"
      ]
     },
     "execution_count": 10,
     "metadata": {},
     "output_type": "execute_result"
    }
   ],
   "source": [
    "from rpy2.robjects.lib import dplyr, ggplot2 as ggp\n",
    "from rpy2.robjects.vectors import IntVector, FloatVector, StrVector, BoolVector\n",
    "from rpy2.robjects import Formula\n",
    "\n",
    "d = dict((n, FloatVector([x[n] for x in res])) for n in ('t',))\n",
    "d.update((n, StrVector([x[n] for x in res])) for n in ('what', 'hashfun'))\n",
    "d.update((n, BoolVector([x[n] for x in res])) for n in ('keepngrams', ))\n",
    "d.update((n, IntVector([x[n] for x in res])) for n in ('l_sequence', 'bufsize', 'sketchsize'))\n",
    "dataf = dplyr.DataFrame(d)\n",
    "\n",
    "p = (ggp.ggplot((dataf\n",
    "                 .filter(\"hashfun != 'xxhash'\")\n",
    "                 .mutate(implementation='paste(what, hashfun, ifelse(keepngrams, \"kmers\", \"\"), sep=\"/\")'))) +\n",
    "     ggp.geom_line(ggp.aes_string(x='l_sequence', \n",
    "                                  y='l_sequence/(t/%i)/1E6' % ntimes, \n",
    "                                  color='implementation',\n",
    "                                  #lty='bufsize',\n",
    "                                  #color='keepngrams',\n",
    "                                  group='paste(implementation, bufsize, keepngrams)'),\n",
    "                   alpha=1) +\n",
    "     ggp.facet_grid(Formula('~sketchsize')) +\n",
    "     ggp.scale_x_log10('sequence length') +\n",
    "     ggp.scale_y_continuous('MB/s') +\n",
    "     ggp.scale_color_discrete('Implementation') +\n",
    "     ggp.theme(legend_position=\"top\"))\n",
    "\n",
    "import rpy2.ipython.ggplot\n",
    "rpy2.ipython.ggplot.image_png(p, width=1000, height=300)"
   ]
  },
  {
   "cell_type": "markdown",
   "metadata": {},
   "source": [
    "The time spent appears proportional to the size of the input sequence within than range of sizes... with the suspicion that our code is scaling better with increasing sequence size (relatively faster as the size is increasing). Larger buffer sizes may make a difference for smaller `max_size` values, and unless dire memory restrictions it appears safer to just have the buffer size set to 250 hash values or more. Keeping the kmers comes with a slight cost for the larger `max_size` values. Our Python implementation is otherwise holding up quite well. XXHash appears give slightly faster processing rates in the best case, and make no difference with MurmushHash3 in other cases (not shown)."
   ]
  },
  {
   "cell_type": "markdown",
   "metadata": {},
   "source": [
    "One can also observe that the performance dip for the largest `max_size` value is recovering as the input sequence is getting longer. We verifiy this with a .1GB reference and `max_size` equal to 20,000."
   ]
  },
  {
   "cell_type": "code",
   "execution_count": 11,
   "metadata": {
    "collapsed": false
   },
   "outputs": [
    {
     "name": "stdout",
     "output_type": "stream",
     "text": [
      "generating sequence:\n"
     ]
    }
   ],
   "source": [
    "seqsize = int(1E8)\n",
    "print(\"generating sequence:\")\n",
    "f = FloatProgress(min=0, max=seqsize)\n",
    "display(f)\n",
    "sequencebitpacked = ssl.RAND_bytes(int(seqsize/4))\n",
    "sequencen = bytearray(int(seqsize))\n",
    "for i, b in zip(range(0, len(sequencen), 4), sequencebitpacked):\n",
    "    sequencen[i:(i+4)] = quad[b]\n",
    "    if i % 1000 == 0:\n",
    "        f.value += 1000\n",
    "f.value = i+4\n",
    "sequencen = bytes(sequencen)"
   ]
  },
  {
   "cell_type": "code",
   "execution_count": 12,
   "metadata": {
    "collapsed": true
   },
   "outputs": [],
   "source": [
    "env['sequencen'] = sequencen\n",
    "sketsize = 20000\n",
    "bufsize = 1000\n",
    "funname, hashfun = ('murmurhash3', hasharray)\n",
    "clsname = 'NoNgrams'\n",
    "tmp = run_mashingp(clsname, bufsize, sketchsize, hashfun, env, 1)\n"
   ]
  },
  {
   "cell_type": "markdown",
   "metadata": {},
   "source": [
    "### Back-of-envelope time\n",
    "\n",
    "Assuming .2 seconds / bacterial genome, this would allow us to compute the 1,000-kmers signatures for 18,000 bacterial genomes per hour and per CPU. On a laptop (where this notebook was initially run)."
   ]
  },
  {
   "cell_type": "code",
   "execution_count": 13,
   "metadata": {
    "collapsed": false
   },
   "outputs": [
    {
     "name": "stdout",
     "output_type": "stream",
     "text": [
      "9.71 seconds\n",
      "10.30 MB / second\n"
     ]
    }
   ],
   "source": [
    "print(\"%.2f seconds\" % tmp['t'])\n",
    "print(\"%.2f MB / second\" % (tmp['l_sequence']/tmp['t']/1E6))"
   ]
  },
  {
   "cell_type": "markdown",
   "metadata": {},
   "source": [
    "Assuming a 3GB proverbial human genome, this would mean a human genome processed in ~ 10 / 1E8 * 3E9 = 300 seconds (5 mins). Not bad."
   ]
  },
  {
   "cell_type": "markdown",
   "metadata": {},
   "source": [
    "When considering raw reads from a sequencing run, this would put the 15E9 bases optimally out of a latest\n",
    "Illumina MiSeq sequencer processed in about 15 minutes. Not great, but quite bearable\n",
    "when the work can be parallelized (note-to-self: show how to do it) and 4-core machine can be rented per hour on the cloud for cheap... and this is still in Python so customization and ideas can be implemented rather easily and quickly."
   ]
  },
  {
   "cell_type": "code",
   "execution_count": null,
   "metadata": {
    "collapsed": true
   },
   "outputs": [],
   "source": []
  }
 ],
 "metadata": {
  "kernelspec": {
   "display_name": "Python 3",
   "language": "python",
   "name": "python3"
  },
  "language_info": {
   "codemirror_mode": {
    "name": "ipython",
    "version": 3
   },
   "file_extension": ".py",
   "mimetype": "text/x-python",
   "name": "python",
   "nbconvert_exporter": "python",
   "pygments_lexer": "ipython3",
   "version": "3.5.2+"
  },
  "widgets": {
   "state": {
    "46bcc4c50c254b9a94c9c80a04e108c2": {
     "views": [
      {
       "cell_index": 25
      }
     ]
    },
    "94fb163dbd89442e96d54d9448d85dbb": {
     "views": [
      {
       "cell_index": 29
      }
     ]
    }
   },
   "version": "1.2.0"
  }
 },
 "nbformat": 4,
 "nbformat_minor": 2
}
