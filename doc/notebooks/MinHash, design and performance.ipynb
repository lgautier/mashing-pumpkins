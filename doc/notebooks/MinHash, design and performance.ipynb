{
 "cells": [
  {
   "cell_type": "markdown",
   "metadata": {},
   "source": [
    "# Designing a Python library for building prototypes around MinHash\n",
    "\n",
    "This is very much work-in-progress. May be the software and or ideas presented with be the subject of a peer-reviewed or self-published write-up. For now the URL for this is: https://github.com/lgautier/mashing-pumpkins\n",
    "\n",
    "MinHash in the context of biological sequenced was introduced by the Maryland Bioinformatics Lab [add reference here].\n",
    "\n",
    "Building a MinHash is akin to taking a sample of all k-mers / n-grams found in a sequence and using that sample as a signature or sketch for that sequence.\n",
    "\n",
    "## A look at convenience *vs* performance\n",
    "\n",
    "Moving Python code to C leads to performance improvement... sometimes."
   ]
  },
  {
   "cell_type": "markdown",
   "metadata": {},
   "source": [
    "### Test sequence\n",
    "\n",
    "First we need a test sequence. Generating a random one quickly can be achieved as follows, for example. If you already have you own way to generate a sequence, or your own benchmark sequence, the following code cell can be changed so as to end up with a variable `sequence` that is a `bytes` object containing it."
   ]
  },
  {
   "cell_type": "code",
   "execution_count": 1,
   "metadata": {
    "collapsed": false
   },
   "outputs": [],
   "source": [
    "# we take a DNA sequence as an example, but this is arbitrary and not necessary.\n",
    "alphabet = b'ATGC'\n",
    "# create a lookup structure to go from byte to 4-mer\n",
    "# (a arbitrary byte is a bitpacked 4-mer)\n",
    "quad = [None,]*(len(alphabet)**4)\n",
    "i = 0\n",
    "for b1 in alphabet:\n",
    "    for b2 in alphabet:\n",
    "        for b3 in alphabet:\n",
    "            for b4 in alphabet:\n",
    "                quad[i] = bytes((b1,b2,b3,b4))\n",
    "                i += 1\n",
    "# random bytes for a 1M genome (order of magnitude for a bacterial genome)\n",
    "import ssl\n",
    "size = int(2E6)\n",
    "sequencebitpacked = ssl.RAND_bytes(int(size/4))\n",
    "sequence = bytearray(int(size))\n",
    "for i, b in zip(range(0, len(sequence), 4), sequencebitpacked):\n",
    "    sequence[i:(i+4)] = quad[b]\n",
    "sequence = bytes(sequence)"
   ]
  },
  {
   "cell_type": "code",
   "execution_count": 2,
   "metadata": {
    "collapsed": true
   },
   "outputs": [],
   "source": [
    "import time\n",
    "class timedblock(object):\n",
    "    def __enter__(self):\n",
    "        self.tenter = time.clock()\n",
    "        return self\n",
    "\n",
    "    def __exit__(self, type, value, traceback):\n",
    "        self.texit = time.clock()\n",
    "\n",
    "    @property\n",
    "    def duration(self):\n",
    "        return self.texit - self.tenter"
   ]
  },
  {
   "cell_type": "markdown",
   "metadata": {},
   "source": [
    "### Kicking the tires with `sourmash`\n",
    "\n",
    "The executable `sourmash` is a nice package from the dib-lab implemented in Python and including a library [add reference here]. Perfect for trying out quick what MinHash sketches can do.\n",
    "\n",
    "We will create a MinHash of maximum size 1000 (1000 elements) and of k-mer size 21 (all ngrams of length 21 across the input sequences will be considered for inclusion in the MinHash. At the time of writing MinHash is implemented in C/C++ and use that as a reference for speed, as we measure the time it takes to process our 1M reference sequence"
   ]
  },
  {
   "cell_type": "code",
   "execution_count": 3,
   "metadata": {
    "collapsed": false
   },
   "outputs": [
    {
     "name": "stdout",
     "output_type": "stream",
     "text": [
      "0.62 seconds / sequence\n"
     ]
    }
   ],
   "source": [
    "from sourmash_lib._minhash import MinHash\n",
    "\n",
    "sequence_str = sequence.decode(\"utf-8\")\n",
    "with timedblock() as tb:\n",
    "    smh = MinHash(1000, 21)\n",
    "    smh.add_sequence(sequence_str)\n",
    "t_sourmash = tb.duration\n",
    "print(\"%.2f seconds / sequence\" % t_sourmash)"
   ]
  },
  {
   "cell_type": "markdown",
   "metadata": {},
   "source": [
    "This is awesome. The sketch for a bacteria-sized DNA sequence can be computed very quickly (about a second on my laptop)."
   ]
  },
  {
   "cell_type": "markdown",
   "metadata": {},
   "source": [
    "### Redisigning it all for convenience and flexibility\n",
    "\n",
    "We have redesigned what a class could look like, and implemented that design in Python\n",
    "foremost for our own convenience and to match the claim of convenience. Now how bad is the impact on performance ?\n",
    "\n",
    "Our new design allows flexibility with respect to the hash function used, and to initially illustrate our point we use `mmh` an existing Python package wrapping MurmurHash3, the hashing function used in `MASH` and `sourmash`."
   ]
  },
  {
   "cell_type": "code",
   "execution_count": 4,
   "metadata": {
    "collapsed": false
   },
   "outputs": [
    {
     "name": "stdout",
     "output_type": "stream",
     "text": [
      "0.99 seconds / sequence\n",
      "Our Python implementation is 1.59 times slower.\n"
     ]
    }
   ],
   "source": [
    "# make a hashing function to match our design\n",
    "import mmh3\n",
    "def hashfun(sequence, nsize, hbuffer, w=100):\n",
    "    n = min(len(hbuffer), len(sequence)-nsize+1)\n",
    "    for i in range(n):\n",
    "        ngram = sequence[i:(i+nsize)]\n",
    "        hbuffer[i] = mmh3.hash64(ngram)[0]\n",
    "    return n\n",
    "\n",
    "from mashingpumpkins.minhashsketch import MaxHashNgramSketch\n",
    "        \n",
    "from array import array\n",
    "with timedblock() as tb:\n",
    "    mhs = MaxHashNgramSketch(21, 1000, hashfun)\n",
    "    mhs.add(sequence, hashbuffer=array(\"q\", [0,]*200))\n",
    "    \n",
    "t_basic = tb.duration\n",
    "print(\"%.2f seconds / sequence\" % (t_basic))\n",
    "print(\"Our Python implementation is %.2f times slower.\" % (t_basic / t_sourmash))"
   ]
  },
  {
   "cell_type": "markdown",
   "metadata": {},
   "source": [
    "Ah. Our Python implementation only using `mmh3` and the standard library is not slower.\n",
    "\n",
    "**note: ** the careful reader will not that we have a MaxHash rather than a MinHash. This is so to use algorithms in the Python stan"
   ]
  },
  {
   "cell_type": "markdown",
   "metadata": {},
   "source": [
    "There is more to it though. The code in \"mashingpumpkins\" is doing more by keeping track of the k-mer/n-gram along with the hash value in order to allow the generation of inter-operable sketch [add reference to discussion on GitHub]."
   ]
  },
  {
   "cell_type": "markdown",
   "metadata": {},
   "source": [
    "Our design in computing batches of hash values each time C is reached for MurmurHash3. We have implemented the small C function require to call MurmurHash for several k-mers, and when using it we have interesting performance gains."
   ]
  },
  {
   "cell_type": "code",
   "execution_count": 5,
   "metadata": {
    "collapsed": false
   },
   "outputs": [
    {
     "name": "stdout",
     "output_type": "stream",
     "text": [
      "0.19 seconds / sequence\n",
      "Our Python implementation is 3.22 times faster.\n"
     ]
    }
   ],
   "source": [
    "from mashingpumpkins._murmurhash3 import hasharray\n",
    "hashfun = hasharray\n",
    "        \n",
    "with timedblock() as tb:\n",
    "    mhs = MaxHashNgramSketch(21, 1000, hashfun)\n",
    "    mhs.add(sequence)\n",
    "\n",
    "t_batch = tb.duration\n",
    "\n",
    "print(\"%.2f seconds / sequence\" % (t_batch))\n",
    "\n",
    "print(\"Our Python implementation is %.2f times faster.\" % (t_sourmash / t_batch))\n"
   ]
  },
  {
   "cell_type": "markdown",
   "metadata": {},
   "source": [
    "Wow!\n",
    "\n",
    "At the time of writing this is approximatively 3 times faster than C-implemented `sourmash`. And we are doing more work (we are keeping the ngrams / kmers associated with hash values)."
   ]
  },
  {
   "cell_type": "markdown",
   "metadata": {},
   "source": [
    "We can modifying our class to stop storing the associated k-mer (only keep the hash value) to see if it improves performances:"
   ]
  },
  {
   "cell_type": "markdown",
   "metadata": {},
   "source": [
    "However, as it was pointed out sourmash's minhash also checking that the sequenceo only uses letters from the DNA alphabet **and** computes the sketch for both the sequence and its reverse complement. We add these 2 operations (check and reverse complement) in a custom child class:"
   ]
  },
  {
   "cell_type": "code",
   "execution_count": 6,
   "metadata": {
    "collapsed": false
   },
   "outputs": [
    {
     "name": "stdout",
     "output_type": "stream",
     "text": [
      "0.42 seconds / sequence\n",
      "Our Python implementation is 1.47 times faster.\n"
     ]
    }
   ],
   "source": [
    "from mashingpumpkins._murmurhash3 import hasharray\n",
    "hashfun = hasharray\n",
    "\n",
    "from array import array\n",
    "\n",
    "trans_tbl = bytearray(256)\n",
    "for x,y in zip(b'ATGC', b'TACG'):\n",
    "    trans_tbl[x] = y\n",
    "\n",
    "def revcomp(sequence):\n",
    "    ba = bytearray(sequence)\n",
    "    ba.reverse()\n",
    "    ba = ba.translate(trans_tbl)\n",
    "    return ba\n",
    "    \n",
    "class MyMash(MaxHashNgramSketch):\n",
    "    def add(self, seq, hashbuffer=array('Q', [0,]*300)):\n",
    "        ba = revcomp(sequence)\n",
    "        if ba.find(0) >= 0:\n",
    "            raise ValueError(\"Input sequence is not DNA\")\n",
    "        super().add(sequence, hashbuffer=hashbuffer)\n",
    "        super().add(ba, hashbuffer=hashbuffer)\n",
    "        \n",
    "with timedblock() as tb:\n",
    "    mhs = MyMash(21, 1000, hashfun)\n",
    "    mhs.add(sequence)\n",
    "\n",
    "t_batch = tb.duration\n",
    "print(\"%.2f seconds / sequence\" % (t_batch))\n",
    "\n",
    "print(\"Our Python implementation is %.2f times faster.\" % (t_sourmash / t_batch))\n"
   ]
  },
  {
   "cell_type": "markdown",
   "metadata": {},
   "source": [
    "Still pretty good, the code for the check is not particularly optimal (that's the kind of primitives that would go to C)."
   ]
  },
  {
   "cell_type": "code",
   "execution_count": 7,
   "metadata": {
    "collapsed": false
   },
   "outputs": [
    {
     "name": "stdout",
     "output_type": "stream",
     "text": [
      "0.03 seconds / sequence\n",
      "Our Python implementation is 18.23 times faster.\n"
     ]
    }
   ],
   "source": [
    "from mashingpumpkins.parallel import Sketch\n",
    "import multiprocessing\n",
    "from functools import reduce\n",
    "import time\n",
    "\n",
    "transcomp_tbl = bytearray(256)\n",
    "for x,y in zip(b'ATGC', b'TACG'):\n",
    "    transcomp_tbl[x] = y\n",
    "\n",
    "transdna_tbl = bytearray(256)\n",
    "for x,y in zip(b'ATGC', b'ATGC'):\n",
    "    transdna_tbl[x] = y\n",
    "\n",
    "def revcomp2(ba):\n",
    "    ba.reverse()\n",
    "    ba = ba.translate(transcomp_tbl)\n",
    "    return ba\n",
    "\n",
    "# nifty generator to give us sequence and its reverse complement\n",
    "def data(sequence):\n",
    "    ba = bytearray(sequence)\n",
    "    yield ba\n",
    "    ba = ba.translate(transdna_tbl)\n",
    "    i = ba.find(0)\n",
    "    if i >= 0:\n",
    "       raise ValueError('Non DNA character in position %i.' % i)\n",
    "    yield revcomp2(ba)\n",
    "\n",
    "with timedblock() as tb:\n",
    "    ncpu = 2\n",
    "\n",
    "    p = multiprocessing.Pool(ncpu,\n",
    "                             initializer=Sketch.initializer,\n",
    "                             initargs=(MaxHashNgramSketch, 21, 1000, hashfun))\n",
    "\n",
    "    # map step (parallel in chunks)\n",
    "    result = p.imap_unordered(Sketch.map_sequence, data(sequence))\n",
    "    # reduce step (reducing as chunks are getting ready)\n",
    "    mhs_mp = reduce(Sketch.reduce, result, MaxHashNgramSketch(21, 1000, hashfun))\n",
    "    p.terminate()\n",
    "t_pbatch = tb.duration\n",
    "\n",
    "print(\"%.2f seconds / sequence\" % (t_pbatch))\n",
    "print(\"Our Python implementation is %.2f times faster.\" % (t_sourmash / t_pbatch))"
   ]
  },
  {
   "cell_type": "markdown",
   "metadata": {},
   "source": [
    "?! Seems too good to be true. Let's compute the Jaccard index to check how I bad I get this:"
   ]
  },
  {
   "cell_type": "code",
   "execution_count": 8,
   "metadata": {
    "collapsed": false
   },
   "outputs": [
    {
     "data": {
      "text/plain": [
       "1.0"
      ]
     },
     "execution_count": 8,
     "metadata": {},
     "output_type": "execute_result"
    }
   ],
   "source": [
    "mhs.freeze().jaccard(mhs_mp.freeze())"
   ]
  },
  {
   "cell_type": "markdown",
   "metadata": {},
   "source": [
    "No no no no no. This can't be right. Are the two sketches really identical ?"
   ]
  },
  {
   "cell_type": "code",
   "execution_count": 9,
   "metadata": {
    "collapsed": false
   },
   "outputs": [
    {
     "data": {
      "text/plain": [
       "0"
      ]
     },
     "execution_count": 9,
     "metadata": {},
     "output_type": "execute_result"
    }
   ],
   "source": [
    "len(mhs._heapset ^ mhs_mp._heapset)"
   ]
  },
  {
   "cell_type": "markdown",
   "metadata": {},
   "source": [
    "I might be both right and way faster."
   ]
  },
  {
   "cell_type": "markdown",
   "metadata": {},
   "source": [
    "We also have an alternative fast hashing available (XXHash). Roughly as fast as MurmurHash3."
   ]
  },
  {
   "cell_type": "code",
   "execution_count": 10,
   "metadata": {
    "collapsed": false
   },
   "outputs": [
    {
     "name": "stdout",
     "output_type": "stream",
     "text": [
      "0.45 seconds / sequence\n",
      "Our Python implementation is 1.39 times faster.\n"
     ]
    }
   ],
   "source": [
    "from mashingpumpkins import _xxhash\n",
    "hashfun = _xxhash.hasharray\n",
    "\n",
    "with timedblock() as tb:\n",
    "    mhs = MyMash(21, 1000, hashfun)\n",
    "    mhs.add(sequence, hashbuffer=array(\"Q\", [0, ]*100))\n",
    "\n",
    "t_batch_xxh = tb.duration\n",
    "\n",
    "print(\"%.2f seconds / sequence\" % (t_batch_xxh))\n",
    "\n",
    "print(\"Our Python implementation is %.2f times faster.\" % (t_sourmash / t_batch_xxh))"
   ]
  },
  {
   "cell_type": "markdown",
   "metadata": {
    "collapsed": true
   },
   "source": [
    "## To infinite and beyond"
   ]
  },
  {
   "cell_type": "markdown",
   "metadata": {},
   "source": [
    "Now how much time should it take to compute signature for various references ?\n",
    "\n",
    "First we check quickly that the time is roughly proportional to the size of the reference:"
   ]
  },
  {
   "cell_type": "code",
   "execution_count": 33,
   "metadata": {
    "collapsed": false
   },
   "outputs": [
    {
     "name": "stderr",
     "output_type": "stream",
     "text": [
      "Widget Javascript not detected.  It may not be installed properly. Did you enable the widgetsnbextension? If not, then run \"jupyter nbextension enable --py --sys-prefix widgetsnbextension\"\n"
     ]
    }
   ],
   "source": [
    "def run_sourmash(sketchsize, sequence):\n",
    "    sequence_str = sequence.decode(\"utf-8\")\n",
    "    with timedblock() as tb:\n",
    "        smh = MinHash(sketchsize, 21)\n",
    "        smh.add_sequence(sequence_str)\n",
    " \n",
    "\n",
    "    return {'t': tb.duration,\n",
    "            'what': 'sourmash',\n",
    "            'keepngrams': False,\n",
    "            'l_sequence': len(sequence),\n",
    "            'bufsize': 0,\n",
    "            'sketchsize': sketchsize}\n",
    "\n",
    "def run_mashingp(cls, bufsize, sketchsize, sequence, hashfun):\n",
    "    buffer = array('Q', [0, ] * bufsize)\n",
    "\n",
    "    with timedblock() as tb:\n",
    "        mhs = cls(21, sketchsize, hashfun)\n",
    "        mhs.add(sequence, hashbuffer=buffer)\n",
    "\n",
    "    keepngrams = True\n",
    "    return {'t': tb.duration,\n",
    "            'what': 'mashingpumpkins',\n",
    "            'keepngrams': keepngrams,\n",
    "            'l_sequence': len(sequence),\n",
    "            'bufsize': bufsize,\n",
    "            'sketchsize': sketchsize}\n",
    "\n",
    "import gc\n",
    "def run_mashingmp(bufsize, sketchsize, sequence, hashfun):\n",
    "    with timedblock() as tb:\n",
    "        ncpu = 2\n",
    "\n",
    "        p = multiprocessing.Pool(ncpu,\n",
    "                                 initializer=Sketch.initializer,\n",
    "                                 initargs=(MaxHashNgramSketch, 21, 1000, hashfun))\n",
    "\n",
    "        # map step (parallel in chunks)\n",
    "        result = p.imap_unordered(Sketch.map_sequence, data(sequence))\n",
    "        # reduce step (reducing as chunks are getting ready)\n",
    "        mhs_mp = reduce(Sketch.reduce, result, MaxHashNgramSketch(21, 1000, hashfun))\n",
    "        p.terminate()\n",
    "\n",
    "    return {'t': tb.duration,\n",
    "            'what': 'mashingpumpinks-2p',\n",
    "            'keepngrams': True,\n",
    "            'l_sequence': len(sequence),\n",
    "            'bufsize': bufsize,\n",
    "            'sketchsize': sketchsize}\n",
    "\n",
    "from ipywidgets import FloatProgress\n",
    "from IPython.display import display\n",
    "f = FloatProgress(min=0, max=6*8*5)\n",
    "display(f)\n",
    "res = list()\n",
    "for seqsize in (int(s) for s in (5E4, 1E5, 3E5, 5E5, 1E6, 5E6)):\n",
    "    # print('\\n* sequence size: {:,}'.format(seqsize))\n",
    "    env = dict()\n",
    "    sequencebitpacked = ssl.RAND_bytes(int(seqsize/4))\n",
    "    sequencen = bytearray(int(seqsize))\n",
    "    for i, b in zip(range(0, len(sequencen), 4), sequencebitpacked):\n",
    "        sequencen[i:(i+4)] = quad[b]\n",
    "    sequencen = bytes(sequencen)\n",
    "    for sketchsize in (100, 200, 500, 1000, 5000, 10000, 20000, 50000):\n",
    "        tmp = run_sourmash(sketchsize, sequencen)\n",
    "        tmp.update([('hashfun', 'murmurhash3')])\n",
    "        res.append(tmp)\n",
    "        for bufsize in (50, 100, 200, 500, 1000):\n",
    "            for funname, hashfun in (('murmurhash3', hasharray),):# ('xxhash', _xxhash.hasharray)):\n",
    "                tmp = run_mashingp(MyMash, bufsize, sketchsize, sequencen, hashfun)\n",
    "                tmp.update([('hashfun', funname)])\n",
    "                res.append(tmp)\n",
    "                tmp = run_mashingmp(bufsize, sketchsize, sequencen, hashfun)\n",
    "                tmp.update([('hashfun', funname)])\n",
    "                res.append(tmp)\n",
    "                f.value += 1"
   ]
  },
  {
   "cell_type": "code",
   "execution_count": 34,
   "metadata": {
    "collapsed": false
   },
   "outputs": [
    {
     "data": {
      "image/png": "[encoded data removed]",
      "text/plain": [
       "<IPython.core.display.Image object>"
      ]
     },
     "execution_count": 34,
     "metadata": {},
     "output_type": "execute_result"
    }
   ],
   "source": [
    "from rpy2.robjects.lib import dplyr, ggplot2 as ggp\n",
    "from rpy2.robjects.vectors import IntVector, FloatVector, StrVector, BoolVector\n",
    "from rpy2.robjects import Formula\n",
    "\n",
    "d = dict((n, FloatVector([x[n] for x in res])) for n in ('t',))\n",
    "d.update((n, StrVector([x[n] for x in res])) for n in ('what', 'hashfun'))\n",
    "d.update((n, BoolVector([x[n] for x in res])) for n in ('keepngrams', ))\n",
    "d.update((n, IntVector([x[n] for x in res])) for n in ('l_sequence', 'bufsize', 'sketchsize'))\n",
    "dataf = dplyr.DataFrame(d)\n",
    "\n",
    "p = (ggp.ggplot((dataf\n",
    "                 .filter(\"hashfun != 'xxhash'\")\n",
    "                 .mutate(implementation='paste(what, ifelse(keepngrams, \"kmers\", \"\"), sep=\"/\")'))) +\n",
    "     ggp.geom_line(ggp.aes_string(x='l_sequence', \n",
    "                                  y='l_sequence/t/1E6', \n",
    "                                  color='implementation',\n",
    "                                  #lty='bufsize',\n",
    "                                  #color='keepngrams',\n",
    "                                  group='paste(implementation, bufsize, keepngrams)'),\n",
    "                   alpha=1) +\n",
    "     ggp.facet_wrap(Formula('~sketchsize')) +\n",
    "     ggp.scale_x_log10('sequence length') +\n",
    "     ggp.scale_y_sqrt('MB/s') +\n",
    "     ggp.scale_color_discrete('Implementation') +\n",
    "     ggp.theme_gray(base_size=16) +\n",
    "     ggp.theme(legend_position=\"top\"))\n",
    "\n",
    "import rpy2.ipython.ggplot\n",
    "rpy2.ipython.ggplot.image_png(p, width=1000, height=600)"
   ]
  },
  {
   "cell_type": "markdown",
   "metadata": {},
   "source": [
    "The rate (MB/s) with which a sequence is processed seems to strongly depend on the size of the input sequence for the `mashingpumpkins` implementation (suggesting a significant setup cost than is amortized as the sequence is getting longer), and parallelization achieve a significant boost in performance. Our implementation appears to be scaling better with increasing sequence size (relatively faster as the size is increasing).\n",
    "\n",
    "Within the range of values explored (buffer size 50 to size 1000), the buffer size does not appear to be the strongest factor although smaller buffer sizes seem associated with a slightly lower rate. Unless dire memory restrictions it appears safer to just have the buffer size set to 250 hash values or more.\n",
    "\n",
    "Keeping the kmers comes with a slight cost for the larger `max_size` values (not shown). Our Python implementation is otherwise holding up quite well. XXHash appears give slightly faster processing rates in the best case, and make no difference with MurmushHash3 in other cases (not shown)."
   ]
  },
  {
   "cell_type": "markdown",
   "metadata": {},
   "source": [
    "One can also observe that the performance dip for the largest `max_size` value is recovering as the input sequence is getting longer. We verifiy this with a .1GB reference and `max_size` equal to 20,000."
   ]
  },
  {
   "cell_type": "code",
   "execution_count": 13,
   "metadata": {
    "collapsed": false
   },
   "outputs": [
    {
     "name": "stdout",
     "output_type": "stream",
     "text": [
      "generating sequence:\n"
     ]
    },
    {
     "name": "stderr",
     "output_type": "stream",
     "text": [
      "Widget Javascript not detected.  It may not be installed properly. Did you enable the widgetsnbextension? If not, then run \"jupyter nbextension enable --py --sys-prefix widgetsnbextension\"\n"
     ]
    }
   ],
   "source": [
    "seqsize = int(1E8)\n",
    "print(\"generating sequence:\")\n",
    "f = FloatProgress(min=0, max=seqsize)\n",
    "display(f)\n",
    "sequencebitpacked = ssl.RAND_bytes(int(seqsize/4))\n",
    "sequencen = bytearray(int(seqsize))\n",
    "for i, b in zip(range(0, len(sequencen), 4), sequencebitpacked):\n",
    "    sequencen[i:(i+4)] = quad[b]\n",
    "    if i % 1000 == 0:\n",
    "        f.value += 1000\n",
    "f.value = i+4\n",
    "sequencen = bytes(sequencen)"
   ]
  },
  {
   "cell_type": "code",
   "execution_count": 25,
   "metadata": {
    "collapsed": false
   },
   "outputs": [],
   "source": [
    "sketsize = 20000\n",
    "bufsize = 1000\n",
    "funname, hashfun = ('murmurhash3', hasharray)\n",
    "tmp = run_mashingmp(bufsize, sketchsize, sequence, hashfun)\n"
   ]
  },
  {
   "cell_type": "code",
   "execution_count": 26,
   "metadata": {
    "collapsed": false
   },
   "outputs": [
    {
     "name": "stdout",
     "output_type": "stream",
     "text": [
      "0.03 seconds\n",
      "60.01 MB / second\n"
     ]
    }
   ],
   "source": [
    "print(\"%.2f seconds\" % tmp['t'])\n",
    "print(\"%.2f MB / second\" % (tmp['l_sequence']/tmp['t']/1E6))"
   ]
  },
  {
   "cell_type": "markdown",
   "metadata": {},
   "source": [
    "**note:** As much as I'd be happy to see this, and despite the checks done, this still appears too good to be true... "
   ]
  },
  {
   "cell_type": "markdown",
   "metadata": {},
   "source": [
    "### Back-of-envelope time\n",
    "\n",
    "Assuming 2MB bacterial genomes, and achieving the rate of 50MB/s observed for that size of reference, this would allow us to compute the 20,000-kmers signatures for 90,000 bacterial genomes per hour. On a laptop<sup>*</sup> (where this notebook was run).\n",
    "\n",
    "(*: just a regular laptop, not a transportable workstation)"
   ]
  },
  {
   "cell_type": "markdown",
   "metadata": {},
   "source": [
    "Assuming a 3GB proverbial human genome, this would mean a human genome processed in ~ 1 second. Not bad."
   ]
  },
  {
   "cell_type": "markdown",
   "metadata": {},
   "source": [
    "When considering raw reads from a sequencing run, this would put the 15E9 bases optimally out of a latest\n",
    "Illumina MiSeq sequencer processed in under 15 seconds.\n",
    "\n",
    "I/O and parsing are not included<sup>*</sup>, but this is quite promising... and this is still in Python so customization and ideas can be implemented rather easily and quickly.\n",
    "\n",
    "(*: this is mean to be a general Python library for MinHashing - parsing data formats is not the focus)"
   ]
  },
  {
   "cell_type": "code",
   "execution_count": null,
   "metadata": {
    "collapsed": true
   },
   "outputs": [],
   "source": []
  }
 ],
 "metadata": {
  "kernelspec": {
   "display_name": "Python 3",
   "language": "python",
   "name": "python3"
  },
  "widgets": {
   "state": {
    "d4ce15551f17498ab5cf1c6dad4669b1": {
     "views": [
      {
       "cell_index": 28
      }
     ]
    },
    "faf3034bf84b452890d2d5eb4185a562": {
     "views": [
      {
       "cell_index": 32
      }
     ]
    }
   },
   "version": "1.2.0"
  }
 },
 "nbformat": 4,
 "nbformat_minor": 2
}
